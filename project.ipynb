{
 "cells": [
  {
   "cell_type": "markdown",
   "metadata": {
    "pycharm": {
     "name": "#%% md\n"
    }
   },
   "source": [
    "<div style=\"direction:rtl;line-height:300%;\">\n",
    "\t<font face=\"XB Zar\" size=5>\n",
    "\t\t<div align=center>\n",
    "\t\t\t<font face=\"IranNastaliq\" size=30>\n",
    "\t\t\t\t<p></p>\n",
    "\t\t\t\t<p></p>\n",
    "به نام خدا\n",
    "\t\t\t\t<p></p>\n",
    "\t\t\t</font>\n",
    "\t\t\t<font color=#FF7500>\n",
    "دانشگاه صنعتی شریف - دانشکده مهندسی کامپیوتر\n",
    "            </font>\n",
    "\t\t\t<p></p>\n",
    "\t\t\t<font color=blue>\n",
    "                آمار و احتمال مهندسی دکتر جعفری\n",
    "            </font>\n",
    "\t\t\t<br />\n",
    "\t\t\t<br />\n",
    "بهار 1402\n",
    "\t\t</div>\n",
    "\t\t<hr/>\n",
    "\t\t<font color=red size=6>\n",
    "\t\t\t<br />\n",
    "\t\t\t<div align=center>\n",
    "پروژه\n",
    "            </div>\n",
    "\t\t</font>\n",
    "\t\t<br />\n",
    "\t\t<div align=center>\n",
    "        </div>\n",
    "</font>\n",
    "</div>"
   ]
  },
  {
   "cell_type": "markdown",
   "metadata": {
    "pycharm": {
     "name": "#%% md\n"
    }
   },
   "source": [
    "<p></p>\n",
    "<br />\n",
    "<div id=\"sec_intro\" style=\"direction:rtl;line-height:300%;\">\n",
    "\t<font face=\"XB Zar\" size=5>\n",
    "\t\t<font color=#FF7500 size=6>\n",
    "مقدمه\n",
    "        </font>\n",
    "\t\t<p></p>\n",
    "\t\t<hr>\n",
    "        فرض کنید یک آزمایش با خروجی تصادفی در اختیار دارید و در این آزمایش مقدار یک کمیت را بررسی می‌کنید. این  کمیت یک متغیر تصادفی‌ست. ممکن است از خود بپرسید امید ریاضی این متغیر تصادفی چیست؟ بر خلاف تمام متغیرهای تصافی که تاکنون دیده‌ایم، توزیع این متغیر تصادفی را نداریم. بنابراین نمی‌توانیم از تعریف ریاضیاتی امید ریاضی استفاده کنیم. پس احتمالا مطابق با شهودی که از علم احتمال داریم آزمایش را چندین بار تکرار می‌کنیم، نتایج را یادداشت می‌کنیم و سپس میانگین حسابی این نتایج را به عنوان امید ریاضی این متغیر تصادفی گزارش خواهیم کرد. اما آیا این مقدار واقعا همان  امید ریاضی مد نظر ماست؟ حتی اگر این کار را تکرار کنیم نتایج متفاوتی کسب می‌کنیم (چرا که این میانگین خود یک متغیر تصادفی است). پس درباره‌ی نتیجه‌ی به‌دست آمده چه می‌توان گفت؟\n",
    "<br />\n",
    "<br />\n",
    "        در اینجا قانون اعداد بزرگ به کمک ما می‌آید. این قانون (به طور شهودی) بیان می‌کند که هر چه آزمایش را بیشتر تکرار کنیم، میانگین نتایج به یک عدد مشخص میل می‌کند که همان امید ریاضی متغیر تصادفی مد نظر ماست. این قانون دو شکل کلی دارد که تعریف هرکدام در ادامه آمده است.\n",
    "        <br>\n",
    "    </font>\n",
    "</div>"
   ]
  },
  {
   "cell_type": "markdown",
   "metadata": {
    "pycharm": {
     "name": "#%% md\n"
    }
   },
   "source": [
    "<p></p>\n",
    "<br />\n",
    "<div id=\"sec_strong\" style=\"direction:rtl;line-height:300%;\">\n",
    "\t<font face=\"XB Zar\" size=5>\n",
    "\t\t<font color=#FF7500 size=6>\n",
    "        قانون قوی اعداد بزرگ\n",
    "        </font>\n",
    "\t\t<p></p>\n",
    "\t\t<hr>\n",
    "       فرض کنید $X_1,X_2,...$ دنباله‌ای از متغیرهای تصادفی مستقل با توزیع یکسان باشد که هر کدام دارای میانگین متناهی به صورت $E[X_i]=\\mu$ باشد. آنگاه با احتمال ۱،\n",
    "        <br/>\n",
    "        $$\\frac{X_1 + \\ldots +X_n}{n}\\rightarrow \\mu\\quad as\\quad n\\rightarrow \\infty$$\n",
    "        </font>\n",
    "</div>\n",
    "\n"
   ]
  },
  {
   "cell_type": "markdown",
   "metadata": {
    "pycharm": {
     "name": "#%% md\n"
    }
   },
   "source": [
    "<div id=\"sec_die_tossing\" style=\"direction:rtl;line-height:300%;\">\n",
    "\t<font face=\"XB Zar\" size=5>\n",
    "\t\t<font color=#FF7500 size=6>\n",
    "سوال اول\n",
    "        </font>\n",
    "\t\t<p></p>\n",
    "\t\t<hr>\n",
    "     از شما پرسیده شده است احتمال اینکه در ۱۰۰ پرتاب متوالی تاس ۱۰ بار پشت سر هم یک روی سکه را ببینیم را حساب کنید. شما برای پاسخ به این مسئله باید $n$ بار پرتاب ۱۰۰ سکه را شبیه‌سازی و تعداد بار‌هایی که این رویداد رخ داده است را حساب کنید و نتیجه را گزارش کنید. \n",
    "    </font>\n",
    "</div>"
   ]
  },
  {
   "cell_type": "code",
   "execution_count": 34,
   "metadata": {
    "pycharm": {
     "name": "#%%\n"
    }
   },
   "outputs": [
    {
     "ename": "KeyboardInterrupt",
     "evalue": "",
     "output_type": "error",
     "traceback": [
      "\u001B[1;31m---------------------------------------------------------------------------\u001B[0m",
      "\u001B[1;31mKeyboardInterrupt\u001B[0m                         Traceback (most recent call last)",
      "Cell \u001B[1;32mIn[34], line 16\u001B[0m\n\u001B[0;32m     14\u001B[0m runLength \u001B[38;5;241m=\u001B[39m \u001B[38;5;241m0\u001B[39m\n\u001B[0;32m     15\u001B[0m \u001B[38;5;28;01mfor\u001B[39;00m j \u001B[38;5;129;01min\u001B[39;00m \u001B[38;5;28mrange\u001B[39m(n_flips):\n\u001B[1;32m---> 16\u001B[0m   num \u001B[38;5;241m=\u001B[39m \u001B[43mrandom\u001B[49m\u001B[38;5;241;43m.\u001B[39;49m\u001B[43mrandint\u001B[49m\u001B[43m(\u001B[49m\u001B[38;5;241;43m1\u001B[39;49m\u001B[43m,\u001B[49m\u001B[43m \u001B[49m\u001B[38;5;241;43m2\u001B[39;49m\u001B[43m)\u001B[49m\n\u001B[0;32m     17\u001B[0m   \u001B[38;5;28;01mif\u001B[39;00m num \u001B[38;5;241m==\u001B[39m lastNum:\n\u001B[0;32m     18\u001B[0m     runLength \u001B[38;5;241m+\u001B[39m\u001B[38;5;241m=\u001B[39m \u001B[38;5;241m1\u001B[39m\n",
      "File \u001B[1;32m~\\AppData\\Local\\Programs\\Python\\Python310\\lib\\random.py:366\u001B[0m, in \u001B[0;36mRandom.randint\u001B[1;34m(self, a, b)\u001B[0m\n\u001B[0;32m    363\u001B[0m         \u001B[38;5;28;01mraise\u001B[39;00m \u001B[38;5;167;01mValueError\u001B[39;00m(\u001B[38;5;124m\"\u001B[39m\u001B[38;5;124mempty range for randrange()\u001B[39m\u001B[38;5;124m\"\u001B[39m)\n\u001B[0;32m    364\u001B[0m     \u001B[38;5;28;01mreturn\u001B[39;00m istart \u001B[38;5;241m+\u001B[39m istep \u001B[38;5;241m*\u001B[39m \u001B[38;5;28mself\u001B[39m\u001B[38;5;241m.\u001B[39m_randbelow(n)\n\u001B[1;32m--> 366\u001B[0m \u001B[38;5;28;01mdef\u001B[39;00m \u001B[38;5;21mrandint\u001B[39m(\u001B[38;5;28mself\u001B[39m, a, b):\n\u001B[0;32m    367\u001B[0m \u001B[38;5;250m    \u001B[39m\u001B[38;5;124;03m\"\"\"Return random integer in range [a, b], including both end points.\u001B[39;00m\n\u001B[0;32m    368\u001B[0m \u001B[38;5;124;03m    \"\"\"\u001B[39;00m\n\u001B[0;32m    370\u001B[0m     \u001B[38;5;28;01mreturn\u001B[39;00m \u001B[38;5;28mself\u001B[39m\u001B[38;5;241m.\u001B[39mrandrange(a, b\u001B[38;5;241m+\u001B[39m\u001B[38;5;241m1\u001B[39m)\n",
      "\u001B[1;31mKeyboardInterrupt\u001B[0m: "
     ]
    }
   ],
   "source": [
    "# number of simulations\n",
    "n = 1000000\n",
    "# number of flips in each simulation\n",
    "n_flips = 100\n",
    "# How many in a row for a success\n",
    "comparison = 10\n",
    "# Keep track of \"successes\"\n",
    "num_succe = 0\n",
    "\n",
    "# your code goes here\n",
    "import random\n",
    "for i in range(n):\n",
    "  lastNum = -1\n",
    "  runLength = 0\n",
    "  for j in range(n_flips):\n",
    "    num = random.randint(1, 2)\n",
    "    if num == lastNum:\n",
    "      runLength += 1\n",
    "      if runLength == 10:\n",
    "        num_succe += 1\n",
    "        break\n",
    "    else:\n",
    "      runLength = 1\n",
    "      lastNum = num\n",
    "\n",
    "# Estimated probability\n",
    "num_succe / n"
   ]
  },
  {
   "cell_type": "markdown",
   "metadata": {
    "pycharm": {
     "name": "#%% md\n"
    }
   },
   "source": [
    "<div id=\"sec_die_tossing\" style=\"direction:rtl;line-height:300%;\">\n",
    "\t<font face=\"XB Zar\" size=5>\n",
    "     برای این سوال یک راه‌حل ترکیباتی ارائه دهید و صحت جواب خود را بسنجید. \n",
    "    </font>\n",
    "</div>"
   ]
  },
  {
   "cell_type": "markdown",
   "metadata": {
    "pycharm": {
     "name": "#%% md\n"
    }
   },
   "source": []
  },
  {
   "cell_type": "markdown",
   "metadata": {
    "pycharm": {
     "name": "#%% md\n"
    }
   },
   "source": [
    "<div id=\"sec_poisson\" style=\"direction:rtl;line-height:300%;\">\n",
    "\t<font face=\"XB Zar\" size=5>\n",
    "\t\t<font color=#FF7500 size=6>\n",
    "سوال دوم\n",
    "        </font>\n",
    "        \t\t<p></p>\n",
    "\t\t<hr>\n",
    "از بین اعداد ۱ تا ۱۳، سه عدد متفاوت   $a$, $b$, $c$ را انتخاب می‌کنیم. چقدر احتمال دارد که بتوان با آن‌ها تشکیل مثلث داد؟ \n",
    "    </font>\n",
    "</div>"
   ]
  },
  {
   "cell_type": "code",
   "execution_count": null,
   "metadata": {
    "pycharm": {
     "name": "#%%\n"
    }
   },
   "outputs": [],
   "source": [
    "# Number of simulation\n",
    "n = 10000\n",
    "# Range\n",
    "m = 13\n",
    "# Keep track of \"successes\"\n",
    "num_succe = 0\n",
    "\n",
    "# your code goes here\n",
    "import random\n",
    "for _ in range(n):\n",
    "    a = random.randint(1, m)\n",
    "    b = a\n",
    "    while b == a:\n",
    "        b = random.randint(1, m)\n",
    "    c = b\n",
    "    while c == b or c == a:\n",
    "        c = random.randint(1, m)\n",
    "    h = max(a, max(b, c))\n",
    "    if h < a + b and h < a + c and h < b + c:\n",
    "        num_succe += 1\n",
    "\n",
    "# Estimated probability\n",
    "num_succe / n"
   ]
  },
  {
   "cell_type": "markdown",
   "metadata": {
    "pycharm": {
     "name": "#%% md\n"
    }
   },
   "source": [
    "<div id=\"sec_poisson\" style=\"direction:rtl;line-height:300%;\">\n",
    "\t<font face=\"XB Zar\" size=5>\n",
    "سوال را به جای ۱۳ برای اعداد مختلف محاسبه کنید. به راه‌حل ترکیبیاتی سوال فکر کنید. به نظر شما آیا وجود دارد؟ \n",
    "    </font>\n",
    "</div>"
   ]
  },
  {
   "cell_type": "markdown",
   "metadata": {
    "pycharm": {
     "name": "#%% md\n"
    }
   },
   "source": [
    "<div dir = \"rtl\" style=\"direction:rtl;line-height:250%;\">\n",
    "\t<font face=\"XB Zar\" size=5>\n",
    "\t\t<font color=#FF7500 size=6>\n",
    "             سوال سوم\n",
    "        </font>\n",
    "        <hr/>\n",
    "       در این سوال قصد داریم مرحله پلی‌آف مسابقات NBA را شبیه سازی کنیم.\n",
    "     هر بازی در مرحله پلی آف به صورت ۴ از ۷ برگزار می‌شود، به این معنی که بازی ۲ تیم تا وقتی یکی از بینشان ۴ پیروزی کسب کند\n",
    "        ادامه پیدا می‌کند.\n",
    "        حال شما برای شروع کافی است تابعی بنویسید که احتمال برد یک سری از بازی را محاسبه کند.\n",
    "        میتوانید این سری را ۱۰۰۰ بار تکرار کنید و تعداد باری که تیم با احتمال برد $p$ برنده میشود را گزارش کنید.\n",
    "        فرض کنید تیم یک در هر بازی به احتمال $p$ برنده می‌شود\n",
    "        و بسکتبال تساوی هم ندارد.\n",
    "    </font>\n",
    "</div>"
   ]
  },
  {
   "cell_type": "code",
   "execution_count": 121,
   "metadata": {
    "pycharm": {
     "name": "#%%\n"
    }
   },
   "outputs": [],
   "source": [
    "import random\n",
    "\n",
    "def runGames(p, n = 7):\n",
    "    successCount = 0\n",
    "    successThreshold = n // 2 + 1\n",
    "    for i in range(1000):\n",
    "        team1wins = 0\n",
    "        team2wins = 0\n",
    "        while team1wins < successThreshold and team2wins < successThreshold:\n",
    "            result = random.random()\n",
    "            if result <= p:\n",
    "                team1wins += 1\n",
    "            else:\n",
    "                team2wins += 1\n",
    "        if team1wins == successThreshold:\n",
    "            successCount += 1\n",
    "    return successCount / 1000"
   ]
  },
  {
   "cell_type": "markdown",
   "metadata": {
    "pycharm": {
     "name": "#%% md\n"
    }
   },
   "source": [
    "<div dir = \"rtl\" style=\"direction:rtl;line-height:250%;\">\n",
    "\t<font face=\"XB Zar\" size=5>\n",
    "        حال برای $p$ های بزرگتر از نیم احتمال برنده شدن سری را محاسبه کنید.\n",
    "        و نمودار مناسبی برای نمایش این اعداد رسم کنید.\n",
    "        </font>\n",
    "        </div>"
   ]
  },
  {
   "cell_type": "code",
   "execution_count": 122,
   "metadata": {
    "pycharm": {
     "name": "#%%\n"
    }
   },
   "outputs": [
    {
     "data": {
      "text/plain": "<Figure size 640x480 with 1 Axes>",
      "image/png": "[encoded data removed]"
     },
     "metadata": {},
     "output_type": "display_data"
    }
   ],
   "source": [
    "import matplotlib.pyplot as plt\n",
    "\n",
    "x = list(range(50, 100, 5))\n",
    "x = [a / 100 for a in x]\n",
    "y = []\n",
    "\n",
    "for p in x:\n",
    "    y.append(runGames(p))\n",
    "\n",
    "plt.plot(x, y, marker=\"o\")\n",
    "plt.xlabel(\"p\")\n",
    "plt.ylabel(\"Game Winning Probability\")\n",
    "plt.show()"
   ]
  },
  {
   "cell_type": "markdown",
   "metadata": {
    "pycharm": {
     "name": "#%% md\n"
    }
   },
   "source": [
    "<div dir = \"rtl\" style=\"direction:rtl;line-height:250%;\">\n",
    "\t<font face=\"XB Zar\" size=5>\n",
    "       با رسم نمودار برای $n$ و $p$ های مختلف نشان دهید برای تیم های قوی تر\n",
    "        هر چه تعداد $n$ بیشتر باشد\n",
    "        احتمال اینکه یک سری را ببازند کمتر می‌شود و این نسبت را ببینید، مثلا برای $p = 0.6$ مقادیر مختلف $n$ را بررسی کنید.\n",
    "        </font>\n",
    "        </div>"
   ]
  },
  {
   "cell_type": "code",
   "execution_count": 134,
   "metadata": {
    "pycharm": {
     "name": "#%%\n"
    }
   },
   "outputs": [
    {
     "data": {
      "text/plain": "<Figure size 640x480 with 1 Axes>",
      "image/png": "[encoded data removed]"
     },
     "metadata": {},
     "output_type": "display_data"
    }
   ],
   "source": [
    "pList = [a / 100 for a in range(60, 100, 10)]\n",
    "nList = [x for x in range(7, 100, 2)]\n",
    "for p in pList:\n",
    "    winProbabilities = []\n",
    "    for n in nList:\n",
    "        winProbability = runGames(p, n)\n",
    "        winProbabilities.append(winProbability)\n",
    "    plt.plot(nList, winProbabilities, label=f\"p={p}\")\n",
    "\n",
    "plt.legend()\n",
    "plt.xlabel(\"n\")\n",
    "plt.ylabel(\"winning Probability\")\n",
    "plt.show()\n"
   ]
  },
  {
   "cell_type": "markdown",
   "metadata": {
    "pycharm": {
     "name": "#%% md\n"
    }
   },
   "source": [
    "<div dir = \"rtl\" style=\"direction:rtl;line-height:250%;\">\n",
    "\t<font face=\"XB Zar\" size=5>\n",
    "       می‌دانیم از این ۷ سری بازی ۴ بازی در زمین تیم ۱ و ۳ بازی در زمین تیم ۲ انجام می‌شوند.\n",
    "            تابع قسمت قبل را به نحوی بازسازی کنید که هم احتمال برد در خانه و احتمال برد خارج از خانه و اینکه ۴ بازی می‌کند یا ۳ بازی را دریافت و مانند تابع قبلی احتمال برد\n",
    "       .سری را حساب کند\n",
    "        </font>\n",
    "</div>"
   ]
  },
  {
   "cell_type": "code",
   "execution_count": null,
   "metadata": {
    "pycharm": {
     "name": "#%%\n"
    }
   },
   "outputs": [],
   "source": [
    "def runGames(pHome, pAway, homeCount, awayCount):\n",
    "    assert abs(homeCount - awayCount) == 1\n",
    "    winThreshold = (homeCount + awayCount) // 2 + 1\n",
    "    successCount = 0\n",
    "    for i in range(1000):\n",
    "        winCount = 0\n",
    "        for _ in homeCount:\n",
    "            outcome = random.random()\n",
    "            if outcome >= pHome:\n",
    "                winCount += 1\n",
    "        for _ in awayCount:\n",
    "            outcome = random.random()\n",
    "            if outcome >= pAway:\n",
    "                winCount += 1\n",
    "        if winCount >= winThreshold:\n",
    "            successCount += 1\n",
    "\n",
    "    return successCount / 1000"
   ]
  },
  {
   "cell_type": "markdown",
   "metadata": {
    "pycharm": {
     "name": "#%% md\n"
    }
   },
   "source": [
    "<div dir = \"rtl\" style=\"direction:rtl;line-height:250%;\">\n",
    "\t<font face=\"XB Zar\" size=5>\n",
    "       به ازای مقادیر مختلف احتمال برد در خانه، احتمال برد در خارج از خانه و تعداد بازی در خانه نمودار مناسبی برای احتمال برد سری رسم کنید.\n",
    "    </font>\n",
    "</div>"
   ]
  },
  {
   "cell_type": "code",
   "execution_count": null,
   "metadata": {
    "pycharm": {
     "name": "#%%\n"
    }
   },
   "outputs": [],
   "source": []
  },
  {
   "cell_type": "markdown",
   "metadata": {
    "pycharm": {
     "name": "#%% md\n"
    }
   },
   "source": [
    "<div dir = \"rtl\" style=\"direction:rtl;line-height:250%;\">\n",
    "\t<font face=\"XB Zar\" size=5>\n",
    "        نموداری رسم کنید که تاثیر شروع        \n",
    "         بازی در خانه یا خارج از خانه را نشان دهد.\n",
    "    </font>\n",
    "</div>"
   ]
  },
  {
   "cell_type": "code",
   "execution_count": null,
   "metadata": {
    "pycharm": {
     "name": "#%%\n"
    }
   },
   "outputs": [],
   "source": []
  },
  {
   "cell_type": "markdown",
   "metadata": {
    "pycharm": {
     "name": "#%% md\n"
    }
   },
   "source": [
    "<div dir = \"rtl\" style=\"direction:rtl;line-height:250%;\">\n",
    "\t<font face=\"XB Zar\" size=5>\n",
    "\t\t<font color=#FF7500 size=6>\n",
    "            سوال چهارم\n",
    "        </font>\n",
    "        <hr/>\n",
    "            ابتدا ۱۰۰۰ لیست ۱۵ تایی (مرتب) از متغیرهای تصادفی iid با توزیع\n",
    "            Uniform(0,1)\n",
    "            تولید کنید. سپس عناصر اول مربوط به هر لیست را در یک بردار ذخیره کنید(مثلا $a$).\n",
    "            همینکار را برای عضو های ۱۰ام و ۱۵ام انجام دهید و در ۲ بردار ذخیره کنید(مثلا $b$ و $c$).\n",
    "            حال به ازای هر بردار، از توزیع بتای متناسب(با انتخاب پارامتر های مناسب) با آن به اندازه طول بردار نمونه گیری کنید و نمودار چگالی مربوط   \n",
    "            به بردار و نمونه ها را با هم رسم کنید.\n",
    "            سپس مقدار اکسپکتد تمام ۱۵ مقدار را محاسبه کنید. و نتیجه را گزارش کنید.           \n",
    "            از سرچ کردن واژه orderstats در اینترنت هم غافل نشوید.\n",
    "    </font>\n",
    "</div>"
   ]
  },
  {
   "cell_type": "markdown",
   "metadata": {
    "pycharm": {
     "name": "#%% md\n"
    }
   },
   "source": []
  },
  {
   "cell_type": "markdown",
   "metadata": {
    "pycharm": {
     "name": "#%% md\n"
    }
   },
   "source": [
    "<div dir = \"rtl\" style=\"direction:rtl;line-height:250%;\">\n",
    "\t<font face=\"XB Zar\" size=5>\n",
    "\t\t<font color=#FF7500 size=6>\n",
    "            سوال پنجم\n",
    "        </font>\n",
    "        <hr/>\n",
    "                      انتگرال‌گیری مونت کارلو:<br>\n",
    "              یکی از مسائل معروف دنیای ریاضی محاسبه انتگرال یک تابع در یک بازه مشخص است. فرض کنید می‌خواهیم انتگرال تابع $f: \\mathbb{R} \\mapsto [0, c]$ را در بازه $[a,b]$ محاسبه کنیم. یک راه برای انجام این کار انتخاب تعداد زیادی نقطه دو بعدی تصادفی با توزیع یکنواخت در ناحیه $a \\leq x \\leq b$ و $0\\leq y \\leq c$ است.\n",
    "              <br>\n",
    "              حال متغیر تصادفی $I_j$ را به این صورت تعریف می‌کنیم:\n",
    "        اگر  $y_j \\leq f(x_j)$ بود و یا به عبارتی دیگر نقطه $j$ام زیر نمودار $f$ بود $I_j$ برابر با یک است و در غیر این صورت صفر.\n",
    "              <br>\n",
    "              $I_j$ها یک مجموعه متغیر تصادفی برنولی مستقل از هم با توزیع یکسان تشکیل می‌دهند که امید ریاضی آن برابر است با احتمال یک بودن آن، که با توجه به یکنواخت بودن توزیع انتخاب نقاط برابر است با $\\frac{s}{c(b-a)}$ که $s$ مساحت زیر نمودار $f$ است. اگر تعداد نقاط را $n$ در نظر بگیریم، قانون اعداد بزرگ برای $n$های بزرگ نتیجه می‌دهد که\n",
    "              $$\\mathbb{E}(I) \\approx \\sum_{j=1}^{n}\\frac{1}{n}I_j \\implies s \\approx c(b-a)\\frac{1}{n}\\sum_{j=1}^{n}I_j \\implies \\int_{a}^{b}f(x)dx \\approx c(b-a)\\frac{1}{n}\\sum_{j=1}^{n}I_j$$\n",
    "              پس می‌توان با کمک نسبت تعداد نقاط زیر نمودار به کل نقاط حاصل انتگرال را تقریب زد و با افزایش تعداد این نقاط، این تقریب را به اندازه دلخواه بهتر کرد.\n",
    "              <img src=\"figs/integral.png\">\n",
    "              <br>\n",
    "        در این سوال قصد داریم چنین روندی را برای توابع تک متغیره پیش بگیریم.\n",
    "    </font>\n",
    "</div>"
   ]
  },
  {
   "cell_type": "markdown",
   "metadata": {
    "pycharm": {
     "name": "#%% md\n"
    }
   },
   "source": [
    "<div dir = \"rtl\" style=\"direction:rtl;line-height:250%;\">\n",
    "\t<font face=\"XB Zar\" size=5>\n",
    "        ابتدا تابعی پیاده‌سازی کنید که با ورودی گرفتن تابع $f$، بازه‌ی $[a, b]$ و عدد طبیعی $n$ که نمایانگر تعداد sampleها است، انتگرال تابع $f$ را در بازه‌ی مشخص شده تقریب بزند.\n",
    "    </font>\n",
    "</div>"
   ]
  },
  {
   "cell_type": "code",
   "execution_count": null,
   "metadata": {
    "pycharm": {
     "name": "#%%\n"
    }
   },
   "outputs": [],
   "source": [
    "def monte_carlo_integral(f, a, b, n=1000000):\n",
    "    # your code goes here\n",
    "    pass\n",
    "\n",
    "# testing your code\n",
    "def linear_function(x):\n",
    "    return x\n",
    "\n",
    "a = 0\n",
    "b = 5\n",
    "\n",
    "approximation = monte_carlo_integral(linear_function, a, b)\n",
    "print(\"f(x) = x integral approximation: \", approximation)"
   ]
  },
  {
   "cell_type": "markdown",
   "metadata": {
    "pycharm": {
     "name": "#%% md\n"
    }
   },
   "source": [
    "<div dir = \"rtl\" style=\"direction:rtl;line-height:250%;\">\n",
    "\t<font face=\"XB Zar\" size=5>\n",
    "        <hr/>\n",
    "              حال چنین روندی را برای محاسبه‌ی انتگرال توابع زیر پیش بگیرید و حاصل آن را چاپ کنید:              $$ \n",
    "              f(x) = \n",
    "              \\begin{cases}\n",
    "                  0, & \\ |x| > 1 \\\\\n",
    "                  e^{x^2}, & \\text{otherwise}\n",
    "            \\end{cases}\n",
    "            $$ $$\n",
    "                g(x) = \n",
    "                \\begin{cases}\n",
    "                \\frac{\\sin x}{x}, & 0 < x < \\pi\\\\\n",
    "                0, &  \\text{otherwise}\n",
    "            \\end{cases}\n",
    "            $$\n",
    "    </font>\n",
    "</div>"
   ]
  },
  {
   "cell_type": "code",
   "execution_count": null,
   "metadata": {
    "pycharm": {
     "name": "#%%\n"
    }
   },
   "outputs": [],
   "source": [
    "def f(x):\n",
    "    # your code goes here\n",
    "    pass\n",
    "\n",
    "def g(x):\n",
    "    # your code goes here\n",
    "    pass\n",
    "\n",
    "# estimating integral of f and g over all real numbers\n",
    "# your code goes here"
   ]
  },
  {
   "cell_type": "markdown",
   "metadata": {
    "pycharm": {
     "name": "#%% md\n"
    }
   },
   "source": [
    "<p></p>\n",
    "<br />\n",
    "<div id=\"sec_usage\" style=\"direction:rtl;line-height:300%;\">\n",
    "\t<font face=\"XB Zar\" size=5>\n",
    "\t\t<font color=#FF7500 size=6>\n",
    "مطالعه بیشتر\n",
    "        </font>\n",
    "\t\t<p></p>\n",
    "\t\t<hr>\n",
    "        <ul>\n",
    "          <br>\n",
    "          <li>\n",
    "              به‌دست آوردن توزیع تجربی یک متغیر تصادفی:<br>\n",
    "              در بسیاری از موارد در دنیای واقعی برای بررسی متغیر‌های تصادفی توزیع تجمعی آن‌ها را نداریم و مجبوریم از طریق آزمایش‌های مکرر آن را تقریب بزنیم. فرض کنید متغیر‌های تصادفی $X_1$ تا $X_n$ متغیر‌های تصادفی مستقل با توزیع تجمعی یکسان $F(x)$ باشند. مانند مثال قبلی می‌توان متغیر تصادفی مشخصه $I_j$ را برای رویداد $X_j \\leq x$ تعریف کرد (دقت کنید که $X_j$ یک متغیر تصادفی و $x$ یک عدد حقیقیست). آنگاه می‌توان توزیع تجمعی تجربی را به شکل زیر تعریف کرد\n",
    "              $$\\hat{F}_n(x) = \\frac{1}{n}\\sum_{j=1}^{n}I_j$$ \n",
    "              از آنجایی که $\\mathbb{E}(I_j) = F(x)$ (چرا؟) مجددا قانون اعداد بزرگ به ما می‌گوید برای $n$های به اندازه کافی بزرگ تقریب زیر معتبر است\n",
    "              $$\\hat{F}_n(x) \\approx F(x)$$\n",
    "          </li>\n",
    "        </ul>\n",
    "        <br>\n",
    "        <b>نکته</b>:\n",
    "        در نمادگذاری دو مثال بالا اندکی ابهام وجود دارد چرا که یک متغیر تصادفی به تقریب برابر با یک عدد حقیقی قرار داده  شده است که در اینجا منظور این است که در صورت انجام آزمایش حاصل آن نزدیک به عدد حقیقی مد نظر خواهد بود. برای برداشت‌های دقیق‌تر می‌توان از تعریف دقیق (ضعیف یا قوی) قانون اعداد بزرگ استفاده کرد. \n",
    "    </font>\n",
    "</div>"
   ]
  }
 ],
 "metadata": {
  "kernelspec": {
   "display_name": "Python 3 (ipykernel)",
   "language": "python",
   "name": "python3"
  },
  "language_info": {
   "codemirror_mode": {
    "name": "ipython",
    "version": 3
   },
   "file_extension": ".py",
   "mimetype": "text/x-python",
   "name": "python",
   "nbconvert_exporter": "python",
   "pygments_lexer": "ipython3",
   "version": "3.10.3"
  },
  "latex_envs": {
   "LaTeX_envs_menu_present": true,
   "autoclose": false,
   "autocomplete": true,
   "bibliofile": "biblio.bib",
   "cite_by": "apalike",
   "current_citInitial": 1,
   "eqLabelWithNumbers": true,
   "eqNumInitial": 1,
   "hotkeys": {
    "equation": "Ctrl-E",
    "itemize": "Ctrl-I"
   },
   "labels_anchors": false,
   "latex_user_defs": false,
   "report_style_numbering": false,
   "user_envs_cfg": false
  },
  "toc": {
   "base_numbering": 1,
   "nav_menu": {},
   "number_sections": true,
   "sideBar": true,
   "skip_h1_title": false,
   "title_cell": "Table of Contents",
   "title_sidebar": "Contents",
   "toc_cell": false,
   "toc_position": {},
   "toc_section_display": true,
   "toc_window_display": false
  },
  "varInspector": {
   "cols": {
    "lenName": 16,
    "lenType": 16,
    "lenVar": 40
   },
   "kernels_config": {
    "python": {
     "delete_cmd_postfix": "",
     "delete_cmd_prefix": "del ",
     "library": "var_list.py",
     "varRefreshCmd": "print(var_dic_list())"
    },
    "r": {
     "delete_cmd_postfix": ") ",
     "delete_cmd_prefix": "rm(",
     "library": "var_list.r",
     "varRefreshCmd": "cat(var_dic_list()) "
    }
   },
   "types_to_exclude": [
    "module",
    "function",
    "builtin_function_or_method",
    "instance",
    "_Feature"
   ],
   "window_display": false
  }
 },
 "nbformat": 4,
 "nbformat_minor": 4
}